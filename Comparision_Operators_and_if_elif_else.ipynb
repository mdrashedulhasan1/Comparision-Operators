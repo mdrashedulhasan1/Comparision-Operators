{
  "nbformat": 4,
  "nbformat_minor": 0,
  "metadata": {
    "colab": {
      "name": "Comparision_Operators_and_if_elif_else.ipynb",
      "provenance": [],
      "authorship_tag": "ABX9TyMx1F6z0YNfm6+7Q4XEySyp",
      "include_colab_link": true
    },
    "kernelspec": {
      "name": "python3",
      "display_name": "Python 3"
    },
    "language_info": {
      "name": "python"
    }
  },
  "cells": [
    {
      "cell_type": "markdown",
      "metadata": {
        "id": "view-in-github",
        "colab_type": "text"
      },
      "source": [
        "<a href=\"https://colab.research.google.com/github/mdrashedulhasan1/Comparision-Operators/blob/main/Comparision_Operators_and_if_elif_else.ipynb\" target=\"_parent\"><img src=\"https://colab.research.google.com/assets/colab-badge.svg\" alt=\"Open In Colab\"/></a>"
      ]
    },
    {
      "cell_type": "code",
      "metadata": {
        "colab": {
          "base_uri": "https://localhost:8080/"
        },
        "id": "3qV2fWyuHlhy",
        "outputId": "9318d638-b492-4226-d995-ae1bbc044400"
      },
      "source": [
        "print(\"Welcome to the market\")\n",
        "price = int(input(\"Enter mango price:\"))\n",
        "if price<10:\n",
        "  print(\"You can buy mango\")\n",
        "else:\n",
        "  print(\"You can't buy mango\")"
      ],
      "execution_count": 3,
      "outputs": [
        {
          "output_type": "stream",
          "name": "stdout",
          "text": [
            "Welcome to the market\n",
            "Enter mango price:9\n",
            "You can buy mango\n"
          ]
        }
      ]
    },
    {
      "cell_type": "code",
      "metadata": {
        "colab": {
          "base_uri": "https://localhost:8080/"
        },
        "id": "ZKVW5Y_gI8CD",
        "outputId": "73b2a888-3b8c-49ac-e977-8b6e088d2fe9"
      },
      "source": [
        "#Even/Odd\n",
        "number = int(input(\"Which number do you want to check?\"))\n",
        "if(number%2 == 0):\n",
        "  print(\"This is an even number\")\n",
        "else:\n",
        "  print(\"This is an odd number\")"
      ],
      "execution_count": 4,
      "outputs": [
        {
          "output_type": "stream",
          "name": "stdout",
          "text": [
            "Which number do you want to check?30\n",
            "This is an even number\n"
          ]
        }
      ]
    },
    {
      "cell_type": "code",
      "metadata": {
        "colab": {
          "base_uri": "https://localhost:8080/"
        },
        "id": "ciHitsl0KUzC",
        "outputId": "85110f00-3600-40f4-8b95-e8b15e20c569"
      },
      "source": [
        "#Nested if & elif statements\n",
        "print(\"Welcome to the market!\")\n",
        "price = int(input(\"Enter mango price:\"))\n",
        "if price<=80:\n",
        "  if price == 80:\n",
        "    print(\"You can buy 4kg mango\")\n",
        "  elif price == 60:\n",
        "    print(\"You can buy 3kg mango\")\n",
        "  else:\n",
        "    print(\"You can buy mango less than 3kg\")\n",
        "else:\n",
        "  print(\"You can buy mango more than 4kg\")"
      ],
      "execution_count": 7,
      "outputs": [
        {
          "output_type": "stream",
          "name": "stdout",
          "text": [
            "Welcome to the market!\n",
            "Enter mango price:100\n",
            "You can buy mango more than 4kg\n"
          ]
        }
      ]
    },
    {
      "cell_type": "code",
      "metadata": {
        "colab": {
          "base_uri": "https://localhost:8080/"
        },
        "id": "GgGXVm61NCqi",
        "outputId": "d45abeea-d38e-4201-8ee5-a9c8faf78c01"
      },
      "source": [
        "age = int(input(\"Input your age:\"))\n",
        "if age>=18:\n",
        "  if(age>30):\n",
        "    print(\"Ticket price 5K\")\n",
        "  elif(age>=25):\n",
        "    print(\"Ticket price 4.5K\")\n",
        "  elif(age>=20):\n",
        "    print(\"Ticket price 3.5K\")\n",
        "  else:\n",
        "    print(\"Ticket price 3.5k\")\n",
        "else:\n",
        "  print(\"Sorry.You can't buy ticket\")"
      ],
      "execution_count": 9,
      "outputs": [
        {
          "output_type": "stream",
          "name": "stdout",
          "text": [
            "Input your age:18\n",
            "Ticket price 3.5k\n"
          ]
        }
      ]
    }
  ]
}